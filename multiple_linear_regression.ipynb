{
  "cells": [
    {
      "cell_type": "code",
      "execution_count": 14,
      "metadata": {
        "id": "-tkoNSnZEgDd"
      },
      "outputs": [],
      "source": [
        "import copy, math"
      ]
    },
    {
      "cell_type": "code",
      "execution_count": 12,
      "metadata": {
        "id": "WRu7IecXqR8z"
      },
      "outputs": [],
      "source": [
        "X_train=[[2104, 5, 1, 45], [1416, 3, 2, 40], [852, 2, 1, 35]]\n",
        "y_train=[460, 232, 178]"
      ]
    },
    {
      "cell_type": "code",
      "execution_count": 5,
      "metadata": {
        "id": "HFkn951Q-eDV"
      },
      "outputs": [],
      "source": [
        "#function to predict y when x,w and b are given\n",
        "def predict_single_value(x,w,b):\n",
        "  #x is an array that consists of m values and each of these parameters are multiplied with its corresponding coefficient w\n",
        "  # the size of w and x is the same\n",
        "  m=len(x)\n",
        "  y_hat=b\n",
        "  for i in range(m):          #this can be done more efficiently using np.dot(x,w)\n",
        "    y_hat+=w[i]*x[i]\n",
        "  return y_hat"
      ]
    },
    {
      "cell_type": "code",
      "execution_count": 2,
      "metadata": {
        "id": "7GbojoKYAG2e"
      },
      "outputs": [],
      "source": [
        "#function to compute cost with multiple variables\n",
        "def compute_cost(x,y,w,b):\n",
        "  m=len(x)\n",
        "  cost=0\n",
        "  for i in range(m):\n",
        "    f_wb_i = predict_single_value(x[i],w,b)\n",
        "    cost = cost + (f_wb_i - y[i])**2\n",
        "  cost = cost / (2 * m)\n",
        "  return cost\n"
      ]
    },
    {
      "cell_type": "code",
      "execution_count": 9,
      "metadata": {
        "id": "P0GDbkHTBV16"
      },
      "outputs": [],
      "source": [
        "#function to compute gradient\n",
        "def compute_gradient(x,y,w,b):\n",
        "  m=len(x)\n",
        "  n=len(x[0])\n",
        "  dj_dw = [0]*n\n",
        "  dj_db = 0\n",
        "  for i in range(m):\n",
        "    err = predict_single_value(x[i],w,b) - y[i]\n",
        "    for j in range(n):\n",
        "      dj_dw[j] = dj_dw[j] + err * x[i][j]\n",
        "      dj_db = dj_db + err\n",
        "  # dj_dw = dj_dw / m\n",
        "  dj_dw = list(map(lambda x: x/m, dj_dw))\n",
        "  dj_db = dj_db / m\n",
        "\n",
        "  return dj_db, dj_dw"
      ]
    },
    {
      "cell_type": "code",
      "execution_count": 10,
      "metadata": {
        "id": "G1CI_paBDNvx"
      },
      "outputs": [],
      "source": [
        "def gradient_descent(X, y, w_in, b_in, cost_function, gradient_function, alpha, num_iters):\n",
        "    J_history = []\n",
        "    w = copy.deepcopy(w_in)  #avoid modifying global w within function\n",
        "    b = b_in\n",
        "\n",
        "    for i in range(num_iters):\n",
        "        dj_db,dj_dw = gradient_function(X, y, w, b)\n",
        "        for j in range(len(dj_dw)):\n",
        "          w[j] = w[j] - alpha * dj_dw[j]\n",
        "        b = b - alpha * dj_db\n",
        "\n",
        "        # Save cost J at each iteration\n",
        "        if i<100000:      # prevent resource exhaustion\n",
        "            J_history.append( cost_function(X, y, w, b))\n",
        "\n",
        "        # Print cost every at intervals 10 times or as many iterations if < 10\n",
        "        if i% math.ceil(num_iters / 10) == 0:\n",
        "            print(f\"Iteration {i:4d}: Cost {J_history[-1]:8.2f}   \")\n",
        "\n",
        "    return w, b, J_history #return final w,b and J history for graphing"
      ]
    },
    {
      "cell_type": "code",
      "execution_count": 15,
      "metadata": {
        "colab": {
          "base_uri": "https://localhost:8080/"
        },
        "id": "S-ALV7cFE1Cc",
        "outputId": "f8510a08-b900-4126-8e57-bcca1a84b16c"
      },
      "outputs": [
        {
          "name": "stdout",
          "output_type": "stream",
          "text": [
            "Iteration    0: Cost 38557.85   \n",
            "Iteration  100: Cost   696.97   \n",
            "Iteration  200: Cost   696.86   \n",
            "Iteration  300: Cost   696.76   \n",
            "Iteration  400: Cost   696.65   \n",
            "Iteration  500: Cost   696.54   \n",
            "Iteration  600: Cost   696.43   \n",
            "Iteration  700: Cost   696.32   \n",
            "Iteration  800: Cost   696.21   \n",
            "Iteration  900: Cost   696.11   \n",
            "b,w found by gradient descent: -0.00,[0.20235008252913314, 0.0007946647357052938, -0.0009850928835913079, -0.0021249573889986907] \n",
            "prediction: 425.6514689868309, target value: 460\n",
            "prediction: 286.44266257137724, target value: 232\n",
            "prediction: 172.32803124003902, target value: 178\n"
          ]
        }
      ],
      "source": [
        "# initialize parameters\n",
        "initial_w = [0]*len(X_train[0])\n",
        "initial_b = 0.\n",
        "# some gradient descent settings\n",
        "iterations = 1000\n",
        "alpha = 0.00000005\n",
        "# run gradient descent\n",
        "w_final, b_final, J_hist = gradient_descent(X_train, y_train, initial_w, initial_b,\n",
        "                                                    compute_cost, compute_gradient,\n",
        "                                                    alpha, iterations)\n",
        "print(f\"b,w found by gradient descent: {b_final:0.2f},{w_final} \")\n",
        "m = len(X_train)\n",
        "for i in range(m):\n",
        "    prediction=predict_single_value(X_train[i], w_final, b_final)\n",
        "    print(f\"prediction: {prediction}, target value: {y_train[i]}\")"
      ]
    },
    {
      "cell_type": "code",
      "execution_count": null,
      "metadata": {
        "id": "lFcZTsdACMP4"
      },
      "outputs": [],
      "source": []
    }
  ],
  "metadata": {
    "colab": {
      "provenance": []
    },
    "kernelspec": {
      "display_name": "Python 3",
      "name": "python3"
    },
    "language_info": {
      "codemirror_mode": {
        "name": "ipython",
        "version": 3
      },
      "file_extension": ".py",
      "mimetype": "text/x-python",
      "name": "python",
      "nbconvert_exporter": "python",
      "pygments_lexer": "ipython3",
      "version": "3.11.4"
    }
  },
  "nbformat": 4,
  "nbformat_minor": 0
}
