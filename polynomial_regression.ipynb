{
  "nbformat": 4,
  "nbformat_minor": 0,
  "metadata": {
    "colab": {
      "provenance": []
    },
    "kernelspec": {
      "name": "python3",
      "display_name": "Python 3"
    },
    "language_info": {
      "name": "python"
    }
  },
  "cells": [
    {
      "cell_type": "code",
      "source": [
        "import math"
      ],
      "metadata": {
        "id": "Skm2YJXFE1Xb"
      },
      "execution_count": 58,
      "outputs": []
    },
    {
      "cell_type": "code",
      "execution_count": 116,
      "metadata": {
        "id": "60x667lZjZ84"
      },
      "outputs": [],
      "source": [
        "X_train=[ 1, 2, 3, 4, 5, 6, 7 ]\n",
        "Y_train=[ 45000, 50000, 60000, 80000, 110000, 150000, 200000 ]\n",
        "# Y_train=[10,40,90,160,250,360,490]"
      ]
    },
    {
      "cell_type": "code",
      "source": [
        "#function to predict single value\n",
        "# b is not present because w[0] will be equivalent to b\n",
        "\n",
        "def predict_single_value(x,w,b):\n",
        "  m=len(w)\n",
        "  y_hat=b\n",
        "  for i in range(1,m):\n",
        "    y_hat+=w[i]*(x**i)\n",
        "  return y_hat"
      ],
      "metadata": {
        "id": "1Zp8j2iHbVp0"
      },
      "execution_count": 79,
      "outputs": []
    },
    {
      "cell_type": "code",
      "source": [
        "#function to compute cost\n",
        "def compute_cost(x,y,w,b):\n",
        "  m=len(x)\n",
        "  cost=0\n",
        "  for i in range(m):\n",
        "    f_wb_i = predict_single_value(x[i],w,b)\n",
        "    cost = cost + (f_wb_i - y[i])**2\n",
        "  cost = cost / (2 * m)\n",
        "  return cost\n"
      ],
      "metadata": {
        "id": "B9lhl6ITfA6K"
      },
      "execution_count": 80,
      "outputs": []
    },
    {
      "cell_type": "code",
      "source": [
        "# function to compute gradient\n",
        "def compute_gradient(x,y,w,b):\n",
        "  m=len(x)\n",
        "  dj_dw=[0]*len(w)\n",
        "  dj_db=0\n",
        "  for i in range(m):\n",
        "    err=predict_single_value(x[i],w,b)-y[i]\n",
        "    for j in range(1,len(dj_dw)):\n",
        "      dj_dw[j]+=err*(x[i]**j)\n",
        "    dj_db+=err\n",
        "  dj_dw = list(map(lambda x: x/m, dj_dw))\n",
        "  dj_db/=m\n",
        "  return dj_dw,dj_db"
      ],
      "metadata": {
        "id": "DvnFEwz_jkRz"
      },
      "execution_count": 94,
      "outputs": []
    },
    {
      "cell_type": "code",
      "source": [
        "def gradient_descent(X,y,degree,alpha,num_iters):\n",
        "  J_history=[]\n",
        "  w=[0]*(degree+1)\n",
        "  b=0\n",
        "  for i in range(num_iters):\n",
        "        dj_dw, dj_db = compute_gradient(X, y, w, b)\n",
        "\n",
        "        for j in range(len(w)):\n",
        "          w[j] = w[j] - alpha * dj_dw[j]\n",
        "        b = b - alpha * dj_db\n",
        "\n",
        "        # Save cost J at each iteration\n",
        "        if i<100000:      # prevent resource exhaustion\n",
        "            J_history.append( compute_cost(X, y, w,b))\n",
        "\n",
        "        # Print cost every at intervals 10 times or as many iterations if < 10\n",
        "        if i% math.ceil(num_iters / 10) == 0:\n",
        "            print(f\"Iteration {i:4d}: Cost {J_history[-1]:8.2f}   \")\n",
        "\n",
        "  return w,b, J_history #return final w,b and J history for graphing"
      ],
      "metadata": {
        "id": "GVYGL_dz9lw0"
      },
      "execution_count": 95,
      "outputs": []
    },
    {
      "cell_type": "code",
      "source": [
        "degree=3\n",
        "iterations=100000\n",
        "alpha=0.00005\n",
        "w_final, b_final,J_hist= gradient_descent(X_train,Y_train,degree,alpha,iterations)\n"
      ],
      "metadata": {
        "colab": {
          "base_uri": "https://localhost:8080/"
        },
        "id": "Kka7f1_fE6FF",
        "outputId": "2ed01406-cad2-47f3-a823-f31002b27323"
      },
      "execution_count": 117,
      "outputs": [
        {
          "output_type": "stream",
          "name": "stdout",
          "text": [
            "Iteration    0: Cost 1325339791.14   \n",
            "Iteration 10000: Cost 109115528.37   \n",
            "Iteration 20000: Cost 80607158.53   \n",
            "Iteration 30000: Cost 59970642.80   \n",
            "Iteration 40000: Cost 45028751.48   \n",
            "Iteration 50000: Cost 34206472.27   \n",
            "Iteration 60000: Cost 26364437.50   \n",
            "Iteration 70000: Cost 20678425.65   \n",
            "Iteration 80000: Cost 16552192.49   \n",
            "Iteration 90000: Cost 13554412.98   \n"
          ]
        }
      ]
    },
    {
      "cell_type": "code",
      "source": [
        "x=5.5\n",
        "print(predict_single_value(x,w_final,b_final), w_final, b_final)"
      ],
      "metadata": {
        "colab": {
          "base_uri": "https://localhost:8080/"
        },
        "id": "eA6j37pHFcCU",
        "outputId": "a9e66364-0e4b-4a16-e43b-3396058a5d3e"
      },
      "execution_count": 119,
      "outputs": [
        {
          "output_type": "stream",
          "name": "stdout",
          "text": [
            "127948.50390919956 [0.0, 15881.213839930937, -1902.581044015528, 476.4556732140505] 18884.59174006147\n"
          ]
        }
      ]
    },
    {
      "cell_type": "code",
      "source": [],
      "metadata": {
        "id": "YncU4IH1Jn6B"
      },
      "execution_count": null,
      "outputs": []
    }
  ]
}