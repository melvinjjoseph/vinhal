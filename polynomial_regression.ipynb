{
  "cells": [
    {
      "cell_type": "code",
      "execution_count": 1,
      "metadata": {
        "id": "Skm2YJXFE1Xb"
      },
      "outputs": [],
      "source": [
        "import math"
      ]
    },
    {
      "cell_type": "code",
      "execution_count": 2,
      "metadata": {
        "id": "60x667lZjZ84"
      },
      "outputs": [],
      "source": [
        "X_train=[ 1, 2, 3, 4, 5, 6, 7 ]\n",
        "Y_train=[ 45000, 50000, 60000, 80000, 110000, 150000, 200000 ]\n",
        "# Y_train=[10,40,90,160,250,360,490]"
      ]
    },
    {
      "cell_type": "code",
      "execution_count": 3,
      "metadata": {
        "id": "1Zp8j2iHbVp0"
      },
      "outputs": [],
      "source": [
        "#function to predict single value\n",
        "# b is not present because w[0] will be equivalent to b\n",
        "\n",
        "def predict_single_value(x,w,b):\n",
        "  m=len(w)\n",
        "  y_hat=b\n",
        "  for i in range(1,m):\n",
        "    y_hat+=w[i]*(x**i)\n",
        "  return y_hat"
      ]
    },
    {
      "cell_type": "code",
      "execution_count": 4,
      "metadata": {
        "id": "B9lhl6ITfA6K"
      },
      "outputs": [],
      "source": [
        "#function to compute cost\n",
        "def compute_cost(x,y,w,b):\n",
        "  m=len(x)\n",
        "  cost=0\n",
        "  for i in range(m):\n",
        "    f_wb_i = predict_single_value(x[i],w,b)\n",
        "    cost = cost + (f_wb_i - y[i])**2\n",
        "  cost = cost / (2 * m)\n",
        "  return cost\n"
      ]
    },
    {
      "cell_type": "code",
      "execution_count": 5,
      "metadata": {
        "id": "DvnFEwz_jkRz"
      },
      "outputs": [],
      "source": [
        "# function to compute gradient\n",
        "def compute_gradient(x,y,w,b):\n",
        "  m=len(x)\n",
        "  dj_dw=[0]*len(w)\n",
        "  dj_db=0\n",
        "  for i in range(m):\n",
        "    err=predict_single_value(x[i],w,b)-y[i]\n",
        "    for j in range(1,len(dj_dw)):\n",
        "      dj_dw[j]+=err*(x[i]**j)\n",
        "      dj_db+=err\n",
        "  dj_dw = list(map(lambda x: x/m, dj_dw))\n",
        "  dj_db/=m\n",
        "  return dj_dw,dj_db"
      ]
    },
    {
      "cell_type": "code",
      "execution_count": 6,
      "metadata": {
        "id": "GVYGL_dz9lw0"
      },
      "outputs": [],
      "source": [
        "def gradient_descent(X,y,degree,alpha,num_iters):\n",
        "  J_history=[]\n",
        "  w=[0]*(degree+1)\n",
        "  b=0\n",
        "  for i in range(num_iters):\n",
        "        dj_dw, dj_db = compute_gradient(X, y, w, b)\n",
        "\n",
        "        for j in range(len(w)):\n",
        "          w[j] = w[j] - alpha * dj_dw[j]\n",
        "        b = b - alpha * dj_db\n",
        "\n",
        "        # Save cost J at each iteration\n",
        "        if i<100000:      # prevent resource exhaustion\n",
        "            J_history.append( compute_cost(X, y, w,b))\n",
        "\n",
        "        # Print cost every at intervals 10 times or as many iterations if < 10\n",
        "        if i% math.ceil(num_iters / 10) == 0:\n",
        "            print(f\"Iteration {i:4d}: Cost {J_history[-1]:8.2f}   \")\n",
        "\n",
        "  return w,b, J_history #return final w,b and J history for graphing"
      ]
    },
    {
      "cell_type": "code",
      "execution_count": 7,
      "metadata": {
        "colab": {
          "base_uri": "https://localhost:8080/"
        },
        "id": "Kka7f1_fE6FF",
        "outputId": "2ed01406-cad2-47f3-a823-f31002b27323"
      },
      "outputs": [
        {
          "name": "stdout",
          "output_type": "stream",
          "text": [
            "Iteration    0: Cost 1325352016.75   \n"
          ]
        },
        {
          "name": "stdout",
          "output_type": "stream",
          "text": [
            "Iteration 10000: Cost 72632152.74   \n",
            "Iteration 20000: Cost 39224870.24   \n",
            "Iteration 30000: Cost 21676068.22   \n",
            "Iteration 40000: Cost 12451948.51   \n",
            "Iteration 50000: Cost 7597820.76   \n",
            "Iteration 60000: Cost 5037762.28   \n",
            "Iteration 70000: Cost 3682064.91   \n",
            "Iteration 80000: Cost 2958710.50   \n",
            "Iteration 90000: Cost 2567429.94   \n"
          ]
        }
      ],
      "source": [
        "degree=3\n",
        "iterations=100000\n",
        "alpha=0.00005\n",
        "w_final, b_final,J_hist= gradient_descent(X_train,Y_train,degree,alpha,iterations)\n"
      ]
    },
    {
      "cell_type": "code",
      "execution_count": 8,
      "metadata": {
        "colab": {
          "base_uri": "https://localhost:8080/"
        },
        "id": "eA6j37pHFcCU",
        "outputId": "a9e66364-0e4b-4a16-e43b-3396058a5d3e"
      },
      "outputs": [
        {
          "name": "stdout",
          "output_type": "stream",
          "text": [
            "126881.88686163882 [0.0, 8820.405369585002, -920.2863286841148, 443.510770714178] 32419.214294044414\n"
          ]
        }
      ],
      "source": [
        "x=5.5\n",
        "print(predict_single_value(x,w_final,b_final), w_final, b_final)"
      ]
    },
    {
      "cell_type": "code",
      "execution_count": null,
      "metadata": {
        "id": "YncU4IH1Jn6B"
      },
      "outputs": [],
      "source": []
    }
  ],
  "metadata": {
    "colab": {
      "provenance": []
    },
    "kernelspec": {
      "display_name": "Python 3",
      "name": "python3"
    },
    "language_info": {
      "codemirror_mode": {
        "name": "ipython",
        "version": 3
      },
      "file_extension": ".py",
      "mimetype": "text/x-python",
      "name": "python",
      "nbconvert_exporter": "python",
      "pygments_lexer": "ipython3",
      "version": "3.11.4"
    }
  },
  "nbformat": 4,
  "nbformat_minor": 0
}
